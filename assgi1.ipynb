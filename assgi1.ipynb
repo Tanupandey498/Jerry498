{
  "nbformat": 4,
  "nbformat_minor": 0,
  "metadata": {
    "colab": {
      "provenance": [],
      "authorship_tag": "ABX9TyMZe5M7vfYHxCpUQPsXYv4P",
      "include_colab_link": true
    },
    "kernelspec": {
      "name": "python3",
      "display_name": "Python 3"
    },
    "language_info": {
      "name": "python"
    }
  },
  "cells": [
    {
      "cell_type": "markdown",
      "metadata": {
        "id": "view-in-github",
        "colab_type": "text"
      },
      "source": [
        "<a href=\"https://colab.research.google.com/github/Tanupandey498/Jerry498/blob/main/assgi1.ipynb\" target=\"_parent\"><img src=\"https://colab.research.google.com/assets/colab-badge.svg\" alt=\"Open In Colab\"/></a>"
      ]
    },
    {
      "cell_type": "markdown",
      "source": [
        "Q1. Create one variable containing following type of data:\n",
        "(i) string\n",
        "(ii) list\n",
        "(iii) float\n",
        "(iv) tuple"
      ],
      "metadata": {
        "id": "MP-6Blme6uEK"
      }
    },
    {
      "cell_type": "code",
      "execution_count": null,
      "metadata": {
        "colab": {
          "base_uri": "https://localhost:8080/"
        },
        "id": "BKbSv6G76lFt",
        "outputId": "7af9526f-ddf7-4e4b-acdf-9c6d41dbacbb"
      },
      "outputs": [
        {
          "output_type": "stream",
          "name": "stdout",
          "text": [
            "String: This is a string\n",
            "List: [1, 2, 3, 4]\n",
            "Float: 3.14\n",
            "Tuple: (5, 6, 7)\n"
          ]
        }
      ],
      "source": [
        "my_variable = (\n",
        "    \"This is a string\",   # string\n",
        "    [1, 2, 3, 4],         # list\n",
        "    3.14,                 # float\n",
        "    (5, 6, 7)             # tuple\n",
        ")\n",
        "print(\"String:\", my_variable[0])\n",
        "print(\"List:\", my_variable[1])\n",
        "print(\"Float:\", my_variable[2])\n",
        "print(\"Tuple:\", my_variable[3])"
      ]
    },
    {
      "cell_type": "markdown",
      "source": [
        "Q2. Given are some following variables containing data:\n",
        "(i) var1 = ‘ ‘\n",
        "(ii) var2 = ‘[ DS , ML , Python]’\n",
        "(iii) var3 = [ ‘DS’ , ’ML’ , ‘Python’ ]\n",
        "(iv) var4 = 1."
      ],
      "metadata": {
        "id": "gDQu1BKI7uz3"
      }
    },
    {
      "cell_type": "code",
      "source": [
        "var1 = ' '\n",
        "var2 = '[ DS , ML , Python]'\n",
        "var3 = [ 'DS', 'ML', 'Python' ]\n",
        "var4 = 1.\n",
        "\n",
        "print(type(var1))\n",
        "print(type(var2))\n",
        "print(type(var3))\n",
        "print(type(var4))"
      ],
      "metadata": {
        "colab": {
          "base_uri": "https://localhost:8080/"
        },
        "id": "fTHgVO657I8v",
        "outputId": "49adf199-0cd9-4bef-eddf-666ae08bc01d"
      },
      "execution_count": null,
      "outputs": [
        {
          "output_type": "stream",
          "name": "stdout",
          "text": [
            "<class 'str'>\n",
            "<class 'str'>\n",
            "<class 'list'>\n",
            "<class 'float'>\n"
          ]
        }
      ]
    },
    {
      "cell_type": "markdown",
      "source": [
        "Explain the use of the following operators using an example:\n",
        "(i) /\n",
        "(ii) %\n",
        "(iii) //\n",
        "(iv) **"
      ],
      "metadata": {
        "id": "LJlN8DqT9HCA"
      }
    },
    {
      "cell_type": "code",
      "source": [
        "a = 10\n",
        "b = 3\n",
        "result = a / b\n",
        "print(result)"
      ],
      "metadata": {
        "id": "tZv0EoX576LO"
      },
      "execution_count": null,
      "outputs": []
    },
    {
      "cell_type": "code",
      "source": [
        "result = a % b\n",
        "print(result)"
      ],
      "metadata": {
        "id": "0SF6Zb4_9V-7"
      },
      "execution_count": null,
      "outputs": []
    },
    {
      "cell_type": "code",
      "source": [
        "result = a // b\n",
        "print(result)"
      ],
      "metadata": {
        "id": "LIEXa1tx9YxO"
      },
      "execution_count": null,
      "outputs": []
    },
    {
      "cell_type": "code",
      "source": [
        "result = a ** b\n",
        "print(result)"
      ],
      "metadata": {
        "id": "UrJTgxc09bzn"
      },
      "execution_count": null,
      "outputs": []
    },
    {
      "cell_type": "markdown",
      "source": [
        "4 . Create a list of length 10 of your choice containing multiple types of data. Using for loop print the\n",
        "element and its data type."
      ],
      "metadata": {
        "id": "ZgkJwpWP9xsE"
      }
    },
    {
      "cell_type": "code",
      "source": [
        "my_list = [25, \"Hello\", 3.14, True, None, [1, 2, 3], (4, 5, 6), {'key': 'value'}, {9, 8, 7}, b'bytes']\n",
        "\n",
        "\n",
        "for element in my_list:\n",
        "    print(f\"Element: {element} | Type: {type(element)}\")"
      ],
      "metadata": {
        "colab": {
          "base_uri": "https://localhost:8080/"
        },
        "id": "KevGhui592Og",
        "outputId": "ef71934c-0c62-4f6f-e906-acf096b5ba14"
      },
      "execution_count": null,
      "outputs": [
        {
          "output_type": "stream",
          "name": "stdout",
          "text": [
            "Element: 25 | Type: <class 'int'>\n",
            "Element: Hello | Type: <class 'str'>\n",
            "Element: 3.14 | Type: <class 'float'>\n",
            "Element: True | Type: <class 'bool'>\n",
            "Element: None | Type: <class 'NoneType'>\n",
            "Element: [1, 2, 3] | Type: <class 'list'>\n",
            "Element: (4, 5, 6) | Type: <class 'tuple'>\n",
            "Element: {'key': 'value'} | Type: <class 'dict'>\n",
            "Element: {8, 9, 7} | Type: <class 'set'>\n",
            "Element: b'bytes' | Type: <class 'bytes'>\n"
          ]
        }
      ]
    },
    {
      "cell_type": "markdown",
      "source": [
        "Q5. Using a while loop, verify if the number A is purely divisible by number B and if so then how many\n",
        "times it can be divisible."
      ],
      "metadata": {
        "id": "hb8NXK1Z-NH2"
      }
    },
    {
      "cell_type": "code",
      "source": [
        "A = 64\n",
        "B = 2\n",
        "count = 0\n",
        "while A % B == 0:\n",
        "    A = A // B\n",
        "    count += 1\n",
        "\n",
        "if count > 0:\n",
        "    print(f\"Number A can be divided by number B {count} times.\")\n",
        "else:\n",
        "    print(\"Number A is not divisible by number B.\")\n"
      ],
      "metadata": {
        "colab": {
          "base_uri": "https://localhost:8080/"
        },
        "id": "TS5Wzhuo-BIh",
        "outputId": "1e51a4d8-b294-49be-8965-bfd08beab7af"
      },
      "execution_count": null,
      "outputs": [
        {
          "output_type": "stream",
          "name": "stdout",
          "text": [
            "Number A can be divided by number B 6 times.\n"
          ]
        }
      ]
    },
    {
      "cell_type": "markdown",
      "source": [
        "Q6. Create a list containing 25 int type data. Using for loop and if-else condition print if the element is\n",
        "divisible by 3 or not.\n"
      ],
      "metadata": {
        "id": "e01blLZA_FFG"
      }
    },
    {
      "cell_type": "code",
      "source": [
        "int_list = list(range(1, 26))\n",
        "for i in int_list:\n",
        "    if i % 3 == 0:\n",
        "        print(f\"{i} is divisible by 3.\")\n",
        "    else:\n",
        "        print(f\"{i} is not divisible by 3.\")"
      ],
      "metadata": {
        "colab": {
          "base_uri": "https://localhost:8080/"
        },
        "id": "hmGDRCIp-_2K",
        "outputId": "a7a45ef2-8d9f-4e73-8a9b-d828959df308"
      },
      "execution_count": null,
      "outputs": [
        {
          "output_type": "stream",
          "name": "stdout",
          "text": [
            "1 is not divisible by 3.\n",
            "2 is not divisible by 3.\n",
            "3 is divisible by 3.\n",
            "4 is not divisible by 3.\n",
            "5 is not divisible by 3.\n",
            "6 is divisible by 3.\n",
            "7 is not divisible by 3.\n",
            "8 is not divisible by 3.\n",
            "9 is divisible by 3.\n",
            "10 is not divisible by 3.\n",
            "11 is not divisible by 3.\n",
            "12 is divisible by 3.\n",
            "13 is not divisible by 3.\n",
            "14 is not divisible by 3.\n",
            "15 is divisible by 3.\n",
            "16 is not divisible by 3.\n",
            "17 is not divisible by 3.\n",
            "18 is divisible by 3.\n",
            "19 is not divisible by 3.\n",
            "20 is not divisible by 3.\n",
            "21 is divisible by 3.\n",
            "22 is not divisible by 3.\n",
            "23 is not divisible by 3.\n",
            "24 is divisible by 3.\n",
            "25 is not divisible by 3.\n"
          ]
        }
      ]
    },
    {
      "cell_type": "markdown",
      "source": [
        "Q7. What do you understand about mutable and immutable data types? Give examples for both showing\n",
        "this property."
      ],
      "metadata": {
        "id": "d5xv0_1U_uuk"
      }
    },
    {
      "cell_type": "code",
      "source": [
        "my_list = [1, 2, 3]\n",
        "print(\"Original list:\", my_list)\n",
        "\n",
        "my_list[0] = 99\n",
        "print(\"Modified list:\", my_list)"
      ],
      "metadata": {
        "colab": {
          "base_uri": "https://localhost:8080/"
        },
        "id": "7HS2VJwJ_mXV",
        "outputId": "f133f580-a011-46c8-c31d-ec0e5eb6bf6c"
      },
      "execution_count": null,
      "outputs": [
        {
          "output_type": "stream",
          "name": "stdout",
          "text": [
            "Original list: [1, 2, 3]\n",
            "Modified list: [99, 2, 3]\n"
          ]
        }
      ]
    },
    {
      "cell_type": "code",
      "source": [
        "my_tuple = (1, 2, 3)\n",
        "print(\"Original tuple:\", my_tuple)\n",
        "\n",
        "try:\n",
        "    my_tuple[0] = 99\n",
        "except TypeError as e:\n",
        "    print(\"Error:\", e)"
      ],
      "metadata": {
        "colab": {
          "base_uri": "https://localhost:8080/"
        },
        "id": "rNbntTDGAXX7",
        "outputId": "b78e482b-428b-44c1-9525-2d52a6481a05"
      },
      "execution_count": null,
      "outputs": [
        {
          "output_type": "stream",
          "name": "stdout",
          "text": [
            "Original tuple: (1, 2, 3)\n",
            "Error: 'tuple' object does not support item assignment\n"
          ]
        }
      ]
    },
    {
      "cell_type": "code",
      "source": [],
      "metadata": {
        "id": "pdNFk6uxBVyC"
      },
      "execution_count": null,
      "outputs": []
    }
  ]
}