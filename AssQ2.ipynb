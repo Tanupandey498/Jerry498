{
  "nbformat": 4,
  "nbformat_minor": 0,
  "metadata": {
    "colab": {
      "provenance": [],
      "authorship_tag": "ABX9TyMZXNhCtvtI5Ps0C9FTxXpE"
    },
    "kernelspec": {
      "name": "python3",
      "display_name": "Python 3"
    },
    "language_info": {
      "name": "python"
    }
  },
  "cells": [
    {
      "cell_type": "markdown",
      "source": [
        "Q1. How do you comment code in Python? What are the different types of comments?"
      ],
      "metadata": {
        "id": "VXbIKcmIkfzW"
      }
    },
    {
      "cell_type": "code",
      "execution_count": null,
      "metadata": {
        "id": "RWUHnCFG_W2n"
      },
      "outputs": [],
      "source": [
        "# Single-line comment\n",
        "\n",
        "\"\"\"\n",
        "This is a multi-line\n",
        " comment.\n",
        "\n",
        "\"\"\""
      ]
    },
    {
      "cell_type": "markdown",
      "source": [
        "Q2. What are variables in Python? How do you declare and assign values to variables?\n",
        "\n",
        "Ans :- A variable in Python is a symbolic name that is a reference or pointer to an object. Variables are created the moment you assign a value to them.\n",
        "\n"
      ],
      "metadata": {
        "id": "PY7VrzYQk-gi"
      }
    },
    {
      "cell_type": "code",
      "source": [
        "# x is a variable, and it's assigned the value 10\n",
        "x = 10"
      ],
      "metadata": {
        "id": "D1X8QGU9lWIG"
      },
      "execution_count": null,
      "outputs": []
    },
    {
      "cell_type": "markdown",
      "source": [
        "Q3. How do you convert one data type to another in Python?\n"
      ],
      "metadata": {
        "id": "7NHal3wDl6DT"
      }
    },
    {
      "cell_type": "code",
      "source": [
        "# Converts string to integer\n",
        "x = int(\"10\")\n",
        "# Converts integer to float\n",
        "y = float(5)\n",
        "# Converts float to string\n",
        "z = str(3.14)"
      ],
      "metadata": {
        "id": "T_z1z3WVlmcl"
      },
      "execution_count": null,
      "outputs": []
    },
    {
      "cell_type": "markdown",
      "source": [
        "Q4. How do you write and execute a Python script from the command line?\n",
        "\n",
        "Ans:- Write the script: Save the code in a file with a .py extension, e.g., script.py.\n",
        "\n",
        "Execute the script: Open the terminal and type:python script.py"
      ],
      "metadata": {
        "id": "XuyEaiiemNwR"
      }
    },
    {
      "cell_type": "markdown",
      "source": [
        "Q5. Given a list my_list = [1, 2, 3, 4, 5], write the code to slice the list and obtain the sub-list [2, 3]."
      ],
      "metadata": {
        "id": "unvY7HntnEdC"
      }
    },
    {
      "cell_type": "code",
      "source": [
        "my_list = [1, 2, 3, 4, 5]\n",
        "sub_list = my_list[1:3]\n",
        "print(sub_list)"
      ],
      "metadata": {
        "colab": {
          "base_uri": "https://localhost:8080/"
        },
        "id": "3t2WHeCcnLed",
        "outputId": "71deed47-46c5-4423-e4fa-dcfb9afcb9ca"
      },
      "execution_count": null,
      "outputs": [
        {
          "output_type": "stream",
          "name": "stdout",
          "text": [
            "[2, 3]\n"
          ]
        }
      ]
    },
    {
      "cell_type": "markdown",
      "source": [
        "Q6. What is a complex number in mathematics, and how is it represented in Python?\n",
        "\n",
        "Ans:- A complex number is a number that consists of a real part and an imaginary part. In Python, a complex number is written in the form a + bj, where a is the real part and b is the imaginary part."
      ],
      "metadata": {
        "id": "w_jUiIqrnbh-"
      }
    },
    {
      "cell_type": "code",
      "source": [
        "# Complex number with real part 3 and imaginary part 4\n",
        "z = 3 + 4j\n",
        "print(z)"
      ],
      "metadata": {
        "colab": {
          "base_uri": "https://localhost:8080/"
        },
        "id": "qiJuNcLSnVZv",
        "outputId": "113e6097-4a72-49db-b51b-3afe72580244"
      },
      "execution_count": null,
      "outputs": [
        {
          "output_type": "stream",
          "name": "stdout",
          "text": [
            "(3+4j)\n"
          ]
        }
      ]
    },
    {
      "cell_type": "code",
      "source": [
        "z"
      ],
      "metadata": {
        "colab": {
          "base_uri": "https://localhost:8080/"
        },
        "id": "ZKv9gUZSn1mW",
        "outputId": "5cfb2db1-47a0-4737-d590-9e7391615cdc"
      },
      "execution_count": null,
      "outputs": [
        {
          "output_type": "execute_result",
          "data": {
            "text/plain": [
              "(3+4j)"
            ]
          },
          "metadata": {},
          "execution_count": 5
        }
      ]
    },
    {
      "cell_type": "markdown",
      "source": [
        "Q7. What is the correct way to declare a variable named age and assign the value 25 to it?"
      ],
      "metadata": {
        "id": "lnrxwRGZn8QJ"
      }
    },
    {
      "cell_type": "code",
      "source": [
        "age = 25\n",
        "age"
      ],
      "metadata": {
        "colab": {
          "base_uri": "https://localhost:8080/"
        },
        "id": "5gZwom-sn5Ws",
        "outputId": "ae714417-55e1-485e-bd97-8cf6bf304c9f"
      },
      "execution_count": null,
      "outputs": [
        {
          "output_type": "execute_result",
          "data": {
            "text/plain": [
              "25"
            ]
          },
          "metadata": {},
          "execution_count": 6
        }
      ]
    },
    {
      "cell_type": "markdown",
      "source": [
        "Q8. Declare a variable named price and assign the value 9.99 to it. What data type does this variable belong to?"
      ],
      "metadata": {
        "id": "nmKatvANoWif"
      }
    },
    {
      "cell_type": "code",
      "source": [
        "Price =  9.99\n",
        "type(Price)"
      ],
      "metadata": {
        "colab": {
          "base_uri": "https://localhost:8080/"
        },
        "id": "Hpd7VqlXoNtK",
        "outputId": "eeb4868e-fc9a-45fa-d507-ca06320114c9"
      },
      "execution_count": null,
      "outputs": [
        {
          "output_type": "execute_result",
          "data": {
            "text/plain": [
              "float"
            ]
          },
          "metadata": {},
          "execution_count": 7
        }
      ]
    },
    {
      "cell_type": "markdown",
      "source": [
        "Q9. Create a variable named name and assign your full name to it as a string. How would you print the value of this variable?"
      ],
      "metadata": {
        "id": "98OuimYoo_a6"
      }
    },
    {
      "cell_type": "code",
      "source": [
        "name = \"Tanu Pandey\"\n",
        "print(name)"
      ],
      "metadata": {
        "colab": {
          "base_uri": "https://localhost:8080/"
        },
        "id": "0v-y6kLHo8Lc",
        "outputId": "e388b5cf-4f05-4006-b68e-cfdad92312cf"
      },
      "execution_count": null,
      "outputs": [
        {
          "output_type": "stream",
          "name": "stdout",
          "text": [
            "Tanu Pandey\n"
          ]
        }
      ]
    },
    {
      "cell_type": "markdown",
      "source": [
        "Q10. Given the string \"Hello, World!\", extract the substring \"World\".\n"
      ],
      "metadata": {
        "id": "c_UAVPtKpXDr"
      }
    },
    {
      "cell_type": "code",
      "source": [
        "s = \"Hello, World!\"\n",
        "substring = s[7:12]\n",
        "print(substring)"
      ],
      "metadata": {
        "colab": {
          "base_uri": "https://localhost:8080/"
        },
        "id": "y5GRJR0wpT93",
        "outputId": "20cc63b9-4633-4973-fe87-3ad15e44126b"
      },
      "execution_count": null,
      "outputs": [
        {
          "output_type": "stream",
          "name": "stdout",
          "text": [
            "World\n"
          ]
        }
      ]
    },
    {
      "cell_type": "markdown",
      "source": [
        "Q11. Create a variable named is_student and assign it a boolean value indicating whether you are currently a student or not."
      ],
      "metadata": {
        "id": "UIJkQ2tLprB4"
      }
    },
    {
      "cell_type": "code",
      "source": [
        "is_student = False"
      ],
      "metadata": {
        "id": "Kj7f9onQpoCU"
      },
      "execution_count": null,
      "outputs": []
    }
  ]
}